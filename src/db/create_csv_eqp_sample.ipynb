{
 "cells": [
  {
   "cell_type": "code",
   "execution_count": 1,
   "metadata": {},
   "outputs": [],
   "source": [
    "from random import randint"
   ]
  },
  {
   "cell_type": "code",
   "execution_count": 2,
   "metadata": {},
   "outputs": [],
   "source": [
    "class Eqp():    \n",
    "    @classmethod\n",
    "    def create_dmd(cls, g):\n",
    "        total = g ** 2 * 10\n",
    "        d = int(total / 2 + randint(-total/5, total/5))\n",
    "        md = int(total - d)\n",
    "        return [str(d), str(md)]\n",
    "    \n",
    "    @classmethod\n",
    "    def create_param_ary(cls, g, n):\n",
    "        ary = []\n",
    "        a = - g + int(g / 2)\n",
    "        b = g + int(g / 2)\n",
    "        for i in range(n):\n",
    "            ary.append(str(randint(a, b)))\n",
    "        return ary\n",
    "    \n",
    "    def __init__(self, grade):\n",
    "        self.grade = grade\n",
    "        self.num_param = 5\n",
    "        self.file_path = \"./eqp_0.csv\"\n",
    "        self.dmd = Eqp.create_dmd(grade)\n",
    "        self.param_ary = Eqp.create_param_ary(self.grade, self.num_param)\n",
    "\n",
    "        \n",
    "    def write_data(self):\n",
    "        line_a = \",\".join(self.dmd)\n",
    "        line_b = \",\".join(self.param_ary)\n",
    "        \n",
    "        with open(self.file_path, \"a\") as fileobj:\n",
    "            fileobj.write(line_a + \",\" + line_b + \"\\n\")\n",
    "        \n",
    "class Eqp_1(Eqp):\n",
    "    def __init__(self, grade):\n",
    "        super().__init__(grade)\n",
    "        self.file_path = \"./eqp_1.csv\"\n",
    "        \n",
    "            \n",
    "class Eqp_2(Eqp):   \n",
    "    def __init__(self, grade):\n",
    "        super().__init__(grade)\n",
    "        self.file_path = \"./eqp_2.csv\"\n",
    "        \n",
    "class Eqp_3(Eqp):\n",
    "    def __init__(self, grade):\n",
    "        super().__init__(grade)\n",
    "        self.file_path = \"./eqp_3.csv\""
   ]
  },
  {
   "cell_type": "code",
   "execution_count": 3,
   "metadata": {},
   "outputs": [],
   "source": [
    "a = 5\n",
    "b= 20"
   ]
  },
  {
   "cell_type": "code",
   "execution_count": 4,
   "metadata": {},
   "outputs": [],
   "source": [
    "for i in range(a):\n",
    "    for j in range(b):\n",
    "        sample_1 = Eqp_1(i+1)\n",
    "        sample_1.write_data()\n",
    "        "
   ]
  },
  {
   "cell_type": "code",
   "execution_count": 5,
   "metadata": {},
   "outputs": [],
   "source": [
    "for i in range(a):\n",
    "    for j in range(b):\n",
    "        sample = Eqp_2(i+1)\n",
    "        sample.write_data()\n",
    "        "
   ]
  },
  {
   "cell_type": "code",
   "execution_count": 6,
   "metadata": {},
   "outputs": [],
   "source": [
    "for i in range(a):\n",
    "    for j in range(b):\n",
    "        sample = Eqp_3(i+1)\n",
    "        sample.write_data()\n",
    "        "
   ]
  },
  {
   "cell_type": "code",
   "execution_count": null,
   "metadata": {},
   "outputs": [],
   "source": []
  },
  {
   "cell_type": "code",
   "execution_count": null,
   "metadata": {},
   "outputs": [],
   "source": []
  }
 ],
 "metadata": {
  "kernelspec": {
   "display_name": "Python 3",
   "language": "python",
   "name": "python3"
  },
  "language_info": {
   "codemirror_mode": {
    "name": "ipython",
    "version": 3
   },
   "file_extension": ".py",
   "mimetype": "text/x-python",
   "name": "python",
   "nbconvert_exporter": "python",
   "pygments_lexer": "ipython3",
   "version": "3.8.5"
  }
 },
 "nbformat": 4,
 "nbformat_minor": 4
}
